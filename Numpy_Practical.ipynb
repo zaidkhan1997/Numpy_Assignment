{
 "cells": [
  {
   "cell_type": "markdown",
   "id": "4bd58139-a8b7-492d-a728-9f177ba93c1c",
   "metadata": {},
   "source": [
    "# Numpy_Assignment-02"
   ]
  },
  {
   "cell_type": "markdown",
   "id": "a05a194a-fc52-46e9-b710-5947a04779d3",
   "metadata": {},
   "source": [
    "## Practical Questions"
   ]
  },
  {
   "cell_type": "code",
   "execution_count": 1,
   "id": "d6f39f67-5907-4f8b-af03-bd800a0c926d",
   "metadata": {},
   "outputs": [
    {
     "name": "stdout",
     "output_type": "stream",
     "text": [
      "Original Array:\n",
      "[[33 85 89]\n",
      " [65  4 16]\n",
      " [37 51 94]]\n",
      "\n",
      "Transposed Array:\n",
      "[[33 65 37]\n",
      " [85  4 51]\n",
      " [89 16 94]]\n"
     ]
    }
   ],
   "source": [
    "#Question_No.1:Create a 3x3 NumPy array with random integers between 1 and 100. Then, interchange its\n",
    "#rows and columns.\n",
    "\n",
    "#Answer:\n",
    "import numpy as np\n",
    "\n",
    "# Create a 3x3 array with random integers between 1 and 100\n",
    "random_array = np.random.randint(1, 101, size=(3, 3))\n",
    "\n",
    "# Interchange rows and columns (transpose the array)\n",
    "transposed_array = random_array.T\n",
    "\n",
    "# Print the original and transposed arrays\n",
    "print(\"Original Array:\")\n",
    "print(random_array)\n",
    "\n",
    "print(\"\\nTransposed Array:\")\n",
    "print(transposed_array)"
   ]
  },
  {
   "cell_type": "code",
   "execution_count": 3,
   "id": "be3e97cf-a9c2-4f73-86b9-cd3d4c53e7b6",
   "metadata": {},
   "outputs": [
    {
     "name": "stdout",
     "output_type": "stream",
     "text": [
      "Original 1D Array:\n",
      "[ 1  2  3  4  5  6  7  8  9 10]\n",
      "\n",
      "Reshaped to 2x5 Array:\n",
      "[[ 1  2  3  4  5]\n",
      " [ 6  7  8  9 10]]\n",
      "\n",
      "Reshaped to 5x2 Array:\n",
      "[[ 1  2]\n",
      " [ 3  4]\n",
      " [ 5  6]\n",
      " [ 7  8]\n",
      " [ 9 10]]\n"
     ]
    }
   ],
   "source": [
    "#Question_No.2:Generate a 1D NumPy array with 10 elements. Reshape it into a 2x5 array, then into a 5x2\n",
    "#array\n",
    "\n",
    "#Answer:\n",
    "import numpy as np\n",
    "\n",
    "# Generate a 1D NumPy array with 10 elements\n",
    "array_1d = np.arange(1, 11)\n",
    "\n",
    "# Reshape it into a 2x5 array\n",
    "array_2x5 = array_1d.reshape(2, 5)\n",
    "\n",
    "# Reshape it into a 5x2 array\n",
    "array_5x2 = array_1d.reshape(5, 2)\n",
    "\n",
    "# Print the arrays\n",
    "print(\"Original 1D Array:\")\n",
    "print(array_1d)\n",
    "\n",
    "print(\"\\nReshaped to 2x5 Array:\")\n",
    "print(array_2x5)\n",
    "\n",
    "print(\"\\nReshaped to 5x2 Array:\")\n",
    "print(array_5x2)"
   ]
  },
  {
   "cell_type": "code",
   "execution_count": 4,
   "id": "efe5c2c3-16b3-46ec-99c9-44abfce42893",
   "metadata": {},
   "outputs": [
    {
     "name": "stdout",
     "output_type": "stream",
     "text": [
      "Original 4x4 Array:\n",
      "[[0.30399251 0.15584347 0.93200174 0.61876431]\n",
      " [0.70481437 0.45541719 0.6623513  0.36758837]\n",
      " [0.67276076 0.91935487 0.28652395 0.02244054]\n",
      " [0.96745155 0.58201989 0.61857972 0.5509895 ]]\n",
      "\n",
      "Array with Border (6x6):\n",
      "[[0.         0.         0.         0.         0.         0.        ]\n",
      " [0.         0.30399251 0.15584347 0.93200174 0.61876431 0.        ]\n",
      " [0.         0.70481437 0.45541719 0.6623513  0.36758837 0.        ]\n",
      " [0.         0.67276076 0.91935487 0.28652395 0.02244054 0.        ]\n",
      " [0.         0.96745155 0.58201989 0.61857972 0.5509895  0.        ]\n",
      " [0.         0.         0.         0.         0.         0.        ]]\n"
     ]
    }
   ],
   "source": [
    "#Question_No.3:Create a 4x4 NumPy array with random float values. Add a border of zeros around it, \n",
    "#resulting in a 6x6 array.\n",
    "\n",
    "\n",
    "#Answer:\n",
    "import numpy as np\n",
    "\n",
    "# Create a 4x4 NumPy array with random float values\n",
    "array_4x4 = np.random.random((4, 4))\n",
    "\n",
    "# Add a border of zeros around it, resulting in a 6x6 array\n",
    "array_with_border = np.pad(array_4x4, pad_width=1, mode='constant', constant_values=0)\n",
    "\n",
    "# Print the original and the array with a border\n",
    "print(\"Original 4x4 Array:\")\n",
    "print(array_4x4)\n",
    "\n",
    "print(\"\\nArray with Border (6x6):\")\n",
    "print(array_with_border)"
   ]
  },
  {
   "cell_type": "code",
   "execution_count": 5,
   "id": "784a7479-8308-409a-9288-5ef8e8d31620",
   "metadata": {},
   "outputs": [
    {
     "name": "stdout",
     "output_type": "stream",
     "text": [
      "[10 15 20 25 30 35 40 45 50 55 60]\n"
     ]
    }
   ],
   "source": [
    "#Question_No.4:Using NumPy, create an array of integers from 10 to 60 with a step of 5.\n",
    "\n",
    "\n",
    "#Answer:\n",
    "import numpy as np\n",
    "\n",
    "# Create an array of integers from 10 to 60 with a step of 5\n",
    "array = np.arange(10, 61, 5)\n",
    "\n",
    "# Print the array\n",
    "print(array)"
   ]
  },
  {
   "cell_type": "code",
   "execution_count": 6,
   "id": "08056b01-1a1a-4cf7-98dd-a216e35709b9",
   "metadata": {},
   "outputs": [
    {
     "name": "stdout",
     "output_type": "stream",
     "text": [
      "Original Array:\n",
      "['python' 'numpy' 'pandas']\n",
      "\n",
      "Uppercase:\n",
      "['PYTHON' 'NUMPY' 'PANDAS']\n",
      "\n",
      "Lowercase:\n",
      "['python' 'numpy' 'pandas']\n",
      "\n",
      "Title Case:\n",
      "['Python' 'Numpy' 'Pandas']\n",
      "\n",
      "Capitalize:\n",
      "['Python' 'Numpy' 'Pandas']\n"
     ]
    }
   ],
   "source": [
    "#Question_No.5:Create a NumPy array of strings ['python', 'numpy', 'pandas']. Apply different case \n",
    "#transformations uppercase, lowercase, title case, etc.) to each element.\n",
    "\n",
    "#Answer:\n",
    "import numpy as np\n",
    "\n",
    "# Create a NumPy array of strings\n",
    "array = np.array(['python', 'numpy', 'pandas'])\n",
    "\n",
    "# Apply different case transformations\n",
    "uppercase = np.char.upper(array)\n",
    "lowercase = np.char.lower(array)\n",
    "title_case = np.char.title(array)\n",
    "capitalize = np.char.capitalize(array)\n",
    "\n",
    "# Print the results\n",
    "print(\"Original Array:\")\n",
    "print(array)\n",
    "\n",
    "print(\"\\nUppercase:\")\n",
    "print(uppercase)\n",
    "\n",
    "print(\"\\nLowercase:\")\n",
    "print(lowercase)\n",
    "\n",
    "print(\"\\nTitle Case:\")\n",
    "print(title_case)\n",
    "\n",
    "print(\"\\nCapitalize:\")\n",
    "print(capitalize)"
   ]
  },
  {
   "cell_type": "code",
   "execution_count": 8,
   "id": "e55870de-10a0-47a2-b141-034bbd251119",
   "metadata": {},
   "outputs": [
    {
     "name": "stdout",
     "output_type": "stream",
     "text": [
      "Original Array of Words:\n",
      "['python' 'numpy' 'pandas']\n",
      "\n",
      "Array with Spaces Between Characters:\n",
      "['p y t h o n' 'n u m p y' 'p a n d a s']\n",
      "Original Array of Words:\n",
      "['python' 'numpy' 'pandas']\n",
      "\n",
      "Array with Spaces Between Characters:\n",
      "['p y t h o n' 'n u m p y' 'p a n d a s']\n"
     ]
    }
   ],
   "source": [
    "#Question_No.6:Generate a NumPy array of words. Insert a space between each character of every word in\n",
    "#the array\n",
    "\n",
    "\n",
    "#Answer:\n",
    "import numpy as np\n",
    "\n",
    "# Generate a NumPy array of words\n",
    "words_array = np.array(['python', 'numpy', 'pandas'])\n",
    "\n",
    "# Insert a space between each character of every word\n",
    "spaced_words = np.char.join(' ', words_array)\n",
    "\n",
    "# Print the original and transformed arrays\n",
    "print(\"Original Array of Words:\")\n",
    "print(words_array)\n",
    "\n",
    "print(\"\\nArray with Spaces Between Characters:\")\n",
    "print(spaced_words)\n",
    "\n",
    "import numpy as np\n",
    "\n",
    "# Generate a NumPy array of words\n",
    "words_array = np.array(['python', 'numpy', 'pandas'])\n",
    "\n",
    "# Insert a space between each character of every word\n",
    "spaced_words = np.char.join(' ', words_array)\n",
    "\n",
    "# Print the original and transformed arrays\n",
    "print(\"Original Array of Words:\")\n",
    "print(words_array)\n",
    "\n",
    "print(\"\\nArray with Spaces Between Characters:\")\n",
    "print(spaced_words)"
   ]
  },
  {
   "cell_type": "code",
   "execution_count": 9,
   "id": "6841fe1d-8d55-498c-860b-63e285768672",
   "metadata": {},
   "outputs": [
    {
     "name": "stdout",
     "output_type": "stream",
     "text": [
      "Array 1:\n",
      "[[1 2 3]\n",
      " [4 5 6]]\n",
      "\n",
      "Array 2:\n",
      "[[ 7  8  9]\n",
      " [10 11 12]]\n",
      "\n",
      "Element-wise Addition:\n",
      "[[ 8 10 12]\n",
      " [14 16 18]]\n",
      "\n",
      "Element-wise Subtraction:\n",
      "[[-6 -6 -6]\n",
      " [-6 -6 -6]]\n",
      "\n",
      "Element-wise Multiplication:\n",
      "[[ 7 16 27]\n",
      " [40 55 72]]\n",
      "\n",
      "Element-wise Division:\n",
      "[[0.14285714 0.25       0.33333333]\n",
      " [0.4        0.45454545 0.5       ]]\n"
     ]
    }
   ],
   "source": [
    "#Question_No.7:Create two 2D NumPy arrays and perform element-wise addition, subtraction, multiplication\n",
    "#, and division.\n",
    "\n",
    "\n",
    "#Answer:\n",
    "import numpy as np\n",
    "\n",
    "# Create two 2D NumPy arrays\n",
    "array1 = np.array([[1, 2, 3], [4, 5, 6]])\n",
    "array2 = np.array([[7, 8, 9], [10, 11, 12]])\n",
    "\n",
    "# Element-wise addition\n",
    "addition_result = array1 + array2\n",
    "\n",
    "# Element-wise subtraction\n",
    "subtraction_result = array1 - array2\n",
    "\n",
    "# Element-wise multiplication\n",
    "multiplication_result = array1 * array2\n",
    "\n",
    "# Element-wise division\n",
    "division_result = array1 / array2\n",
    "\n",
    "# Print the results\n",
    "print(\"Array 1:\")\n",
    "print(array1)\n",
    "\n",
    "print(\"\\nArray 2:\")\n",
    "print(array2)\n",
    "\n",
    "print(\"\\nElement-wise Addition:\")\n",
    "print(addition_result)\n",
    "\n",
    "print(\"\\nElement-wise Subtraction:\")\n",
    "print(subtraction_result)\n",
    "\n",
    "print(\"\\nElement-wise Multiplication:\")\n",
    "print(multiplication_result)\n",
    "\n",
    "print(\"\\nElement-wise Division:\")\n",
    "print(division_result)"
   ]
  },
  {
   "cell_type": "code",
   "execution_count": 10,
   "id": "d6b13516-707b-47c6-8b47-1783c8010e5a",
   "metadata": {},
   "outputs": [
    {
     "name": "stdout",
     "output_type": "stream",
     "text": [
      "5x5 Identity Matrix:\n",
      "[[1. 0. 0. 0. 0.]\n",
      " [0. 1. 0. 0. 0.]\n",
      " [0. 0. 1. 0. 0.]\n",
      " [0. 0. 0. 1. 0.]\n",
      " [0. 0. 0. 0. 1.]]\n",
      "\n",
      "Diagonal Elements:\n",
      "[1. 1. 1. 1. 1.]\n"
     ]
    }
   ],
   "source": [
    "#Question_No.8:Use NumPy to create a 5x5 identity matrix, then extract its diagonal elements.\n",
    "\n",
    "\n",
    "#Answer:\n",
    "import numpy as np\n",
    "\n",
    "# Create a 5x5 identity matrix\n",
    "identity_matrix = np.eye(5)\n",
    "\n",
    "# Extract the diagonal elements\n",
    "diagonal_elements = np.diagonal(identity_matrix)\n",
    "\n",
    "# Print the identity matrix and its diagonal elements\n",
    "print(\"5x5 Identity Matrix:\")\n",
    "print(identity_matrix)\n",
    "\n",
    "print(\"\\nDiagonal Elements:\")\n",
    "print(diagonal_elements)"
   ]
  },
  {
   "cell_type": "code",
   "execution_count": 11,
   "id": "689c25fe-0ac8-4561-8802-8ff06448a139",
   "metadata": {},
   "outputs": [
    {
     "name": "stdout",
     "output_type": "stream",
     "text": [
      "Original Array:\n",
      "[230 605 564 459 273 339 376 628 442 407 306 964 139 560 331 907 619 219\n",
      " 756 627  42 810 236 814 338 457 834 225 259  29 456 711 233 107 631  59\n",
      " 844 211 823 995 975 500 759 434 168  16 938 596 693 937 255 425 795 590\n",
      " 589  35 821 601 845 562 814 330 285  56 562 827 440 918 213 864  60 438\n",
      " 745 483 768 940  53 790 279 994 689 236 498  77  68 343 533 916 134 673\n",
      " 731 901  26 123  84 378 682 546 702 992]\n",
      "\n",
      "Prime Numbers in the Array:\n",
      "[np.int64(139), np.int64(331), np.int64(907), np.int64(619), np.int64(457), np.int64(29), np.int64(233), np.int64(107), np.int64(631), np.int64(59), np.int64(211), np.int64(823), np.int64(937), np.int64(821), np.int64(601), np.int64(827), np.int64(53), np.int64(673)]\n"
     ]
    }
   ],
   "source": [
    "#Question_No.9:Generate a NumPy array of 100 random integers between 0 and 1000. Find and display all \n",
    "#prime numbers in this array\n",
    "\n",
    "\n",
    "#Answer:\n",
    "import numpy as np\n",
    "\n",
    "# Generate a NumPy array of 100 random integers between 0 and 1000\n",
    "random_array = np.random.randint(0, 1001, size=100)\n",
    "\n",
    "# Function to check if a number is prime\n",
    "def is_prime(n):\n",
    "    if n <= 1:\n",
    "        return False\n",
    "    for i in range(2, int(np.sqrt(n)) + 1):\n",
    "        if n % i == 0:\n",
    "            return False\n",
    "    return True\n",
    "\n",
    "# Find all prime numbers in the array\n",
    "prime_numbers = [num for num in random_array if is_prime(num)]\n",
    "\n",
    "# Print the original array and the prime numbers found\n",
    "print(\"Original Array:\")\n",
    "print(random_array)\n",
    "\n",
    "print(\"\\nPrime Numbers in the Array:\")\n",
    "print(prime_numbers)"
   ]
  },
  {
   "cell_type": "code",
   "execution_count": 13,
   "id": "4bd9943d-3e69-4368-8a82-647c5042b853",
   "metadata": {},
   "outputs": [
    {
     "name": "stdout",
     "output_type": "stream",
     "text": [
      "Daily Temperatures for the Month:\n",
      "[25 26 25 23 28 15 22 28 16 28 18 25 17 30 17 17 20 31 32 25 20 27 17 32\n",
      " 22 31 32 23]\n",
      "\n",
      "Weekly Temperatures (4 weeks of 7 days each):\n",
      "[[25 26 25 23 28 15 22]\n",
      " [28 16 28 18 25 17 30]\n",
      " [17 17 20 31 32 25 20]\n",
      " [27 17 32 22 31 32 23]]\n",
      "\n",
      "Weekly Averages:\n",
      "[23.42857143 23.14285714 23.14285714 26.28571429]\n"
     ]
    }
   ],
   "source": [
    "#Question_No.10:Create a NumPy array representing daily temperatures for a month. Calculate and display \n",
    "#the weekly averages.\n",
    "\n",
    "\n",
    "#Answer:\n",
    "import numpy as np\n",
    "\n",
    "# Create a NumPy array representing daily temperatures for a month (28 days)\n",
    "daily_temperatures = np.random.randint(15, 35, size=28)  # Random temperatures between 15 and 35\n",
    "\n",
    "# Reshape the array to represent weeks (4 weeks of 7 days each)\n",
    "weekly_temperatures = daily_temperatures.reshape(4, 7)\n",
    "\n",
    "# Calculate weekly averages\n",
    "weekly_averages = weekly_temperatures.mean(axis=1)\n",
    "\n",
    "# Print the daily temperatures and weekly averages\n",
    "print(\"Daily Temperatures for the Month:\")\n",
    "print(daily_temperatures)\n",
    "\n",
    "print(\"\\nWeekly Temperatures (4 weeks of 7 days each):\")\n",
    "print(weekly_temperatures)\n",
    "\n",
    "print(\"\\nWeekly Averages:\")\n",
    "print(weekly_averages)"
   ]
  },
  {
   "cell_type": "code",
   "execution_count": null,
   "id": "625ccc3b-52f7-49c1-b07b-f1c44208a6d5",
   "metadata": {},
   "outputs": [],
   "source": []
  }
 ],
 "metadata": {
  "kernelspec": {
   "display_name": "Python 3 (ipykernel)",
   "language": "python",
   "name": "python3"
  },
  "language_info": {
   "codemirror_mode": {
    "name": "ipython",
    "version": 3
   },
   "file_extension": ".py",
   "mimetype": "text/x-python",
   "name": "python",
   "nbconvert_exporter": "python",
   "pygments_lexer": "ipython3",
   "version": "3.12.5"
  }
 },
 "nbformat": 4,
 "nbformat_minor": 5
}
