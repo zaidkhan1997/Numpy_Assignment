{
 "cells": [
  {
   "cell_type": "markdown",
   "id": "66893ef5-599f-4816-a340-493145cf9fb0",
   "metadata": {},
   "source": [
    "# Numpy_Assignment"
   ]
  },
  {
   "cell_type": "markdown",
   "id": "63557a74-d30f-4222-97fa-637302513365",
   "metadata": {},
   "source": [
    "## Theoretical Questions"
   ]
  },
  {
   "cell_type": "code",
   "execution_count": 1,
   "id": "d001a822-d692-4c88-97da-32e5273393f2",
   "metadata": {},
   "outputs": [],
   "source": [
    "#Question_No.1:Explain the purpose and advantages of NumPy in scientific computing and data analysis. How does it\n",
    "#enhance Python's capabilities for numerical operations?\n",
    "\n",
    "\n",
    "#Answer: NumPy is a powerful library in Python that plays a crucial role in scientific computing and data analysis. It provides support\n",
    "#for large, multi-dimensional arrays and matrices, along with a collection of mathematical functions to operate on these arrays. Here's \n",
    "#an explanation of its purpose and the advantages it offers:\n",
    "\n",
    "#Purpose of NumPy:\n",
    "# Efficient Array Handling: NumPy provides a powerful N-dimensional array object (ndarray), which is more efficient than Python's \n",
    "#built-in lists for numerical computations.  \n",
    "\n",
    "# Vectorized Operations: NumPy allows you to perform operations on entire arrays without the need for explicit loops.\n",
    "\n",
    "# Mathematical and Statistical Functions: NumPy provides a wide range of mathematical, logical, and statistical functions to work on\n",
    "#arrays. \n",
    "\n",
    "# Interoperability: NumPy arrays can be used as inputs for many other scientific libraries, such as SciPy, pandas, and scikit-learn,\n",
    "#making it a cornerstone in the Python data science ecosystem.\n",
    "\n",
    "\n",
    "# Advantages of NumPy in Scientific Computing and Data Analysis:\n",
    "\n",
    "# Speed: NumPy is implemented in C, which allows it to perform numerical operations much faster than Python's built-in data structures\n",
    "#like lists. This is essential for handling large datasets and performing complex computations efficiently.\n",
    "\n",
    "# Memory Efficiency: NumPy arrays are more memory-efficient than Python lists because they store data in contiguous memory blocks and \n",
    "#use a fixed, minimal memory overhead. \n",
    "\n",
    "# Multidimensional Arrays: Unlike Python's standard lists, which are one-dimensional, NumPy supports multi-dimensional arrays \n",
    "#(matrices, tensors, etc.)\n",
    "\n",
    "# Broad Functionality: NumPy includes a variety of built-in functions for mathematical operations (e.g., matrix multiplication, \n",
    "#statistical calculations), random number generation, and linear algebra, which are critical in data analysis and modeling.\n",
    "\n",
    "\n",
    "# How NumPy Enhances Python’s Capabilities for Numerical Operations:\n",
    "\n",
    "# Faster Computation: Through its efficient array operations and vectorized computations, NumPy provides a significant performance boost\n",
    "#, especially when working with large datasets or performing repetitive mathematical operations.\n",
    "\n",
    "# Array Broadcasting: NumPy supports array broadcasting, which allows you to perform operations on arrays of different shapes without \n",
    "#explicitly reshaping them. This makes it easier to work with matrices or tensors in mathematical operations.\n",
    "\n",
    "# Parallel Processing: While NumPy itself doesn’t implement parallelism directly, it is optimized for vectorized operations that take\n",
    "#advantage of lower-level optimizations and parallel processing in the underlying hardware.\n",
    "\n",
    "# Simplified Code: With NumPy, you can replace complex loops with concise mathematical expressions, improving readability and reducing\n",
    "#the chance of errors. It allows for operations on entire arrays in a single line of code, which is much more efficient than using \n",
    "#Python's standard loops.\n"
   ]
  },
  {
   "cell_type": "code",
   "execution_count": 3,
   "id": "8d8fdac4-bd94-4b52-91a4-a95f156b9369",
   "metadata": {},
   "outputs": [],
   "source": [
    "#Question_No.2:Compare and contrast np.mean() and np.average() functions in NumPy. When would you use one over the\n",
    "#other?\n",
    "\n",
    "\n",
    "#Answer: The np.mean() and np.average() functions in NumPy both calculate the mean (average) of an array, but they have some \n",
    "#differences in terms of functionality and flexibility.\n",
    "\n",
    "# 1. np.mean() Function:\n",
    "#Purpose:\n",
    "\n",
    "#The np.mean() function calculates the arithmetic mean (average) of the elements in an array.\n",
    "#Syntax:\n",
    "#np.mean(a, axis=None, dtype=None, out=None, keepdims=False)  #Syntax\n",
    "\n",
    "# Key Features:\n",
    "\n",
    "# It computes the simple average of the array elements without considering any weights or other conditions.\n",
    "# It is straightforward and easy to use for calculating the mean of an array or along a specific axis.\n",
    "\n",
    "# When to Use:\n",
    "\n",
    "# When you want to calculate the simple arithmetic mean without any weights or custom weighting mechanism.\n",
    "# It's suitable for standard scenarios where no additional parameters are needed.\n",
    "\n",
    "\n",
    "# 2. np.average() Function:\n",
    "#Purpose:\n",
    "#The np.average() function computes the weighted average of the elements in an array. While it can also compute the simple mean\n",
    "#(when no weights are provided), it offers the additional feature of using custom weights for the elements.\n",
    "\n",
    "#Syntax:\n",
    "# np.average(a, axis=None, weights=None, returned=False, keepdims=False)  ##Syntax\n",
    "\n",
    "# Key Features:\n",
    "\n",
    "# np.average() can compute a weighted average, where you specify the relative importance (weight) of each element in the array.\n",
    "# If no weights are provided, np.average() behaves just like np.mean() and computes the simple average.\n",
    "\n",
    "# When to Use:\n",
    "\n",
    "# When you need to calculate a weighted mean where different elements in the array have different importance (weights).\n",
    "# If you want the flexibility of computing either a simple or weighted average, depending on the presence or absence of the weights\n",
    "#parameter.\n"
   ]
  },
  {
   "cell_type": "code",
   "execution_count": 1,
   "id": "4a33ff50-5157-4281-88e7-f9255eb24318",
   "metadata": {},
   "outputs": [
    {
     "name": "stdout",
     "output_type": "stream",
     "text": [
      "Original Array: [1 2 3 4 5]\n",
      "Reversed Array: [5 4 3 2 1]\n"
     ]
    }
   ],
   "source": [
    "#Question_No.3: Describe the methods for reversing a NumPy array along different axes. Provide examples \n",
    "#or 1D and 2D arrays.\n",
    "\n",
    "\n",
    "#Answer:Reversing a NumPy array along different axes involves rearranging the elements of the array in \n",
    "#the reverse order along the specified dimension. Here are common methods to achieve this:\n",
    "\n",
    "# 1. Reversing a 1D NumPy Array\n",
    "#For a one-dimensional array, reversing it simply means flipping the order of its elements.\n",
    "\n",
    "#Method: Using Slicing\n",
    "#You can use slicing with [::-1] to reverse the order of elements.\n",
    "import numpy as np\n",
    "\n",
    "# 1D array\n",
    "arr = np.array([1, 2, 3, 4, 5])\n",
    "\n",
    "# Reverse the array\n",
    "reversed_arr = arr[::-1]\n",
    "\n",
    "print(\"Original Array:\", arr)\n",
    "print(\"Reversed Array:\", reversed_arr)"
   ]
  },
  {
   "cell_type": "code",
   "execution_count": 2,
   "id": "b89d0f9b-14b7-45c2-bd99-d7ccf79381cd",
   "metadata": {},
   "outputs": [
    {
     "name": "stdout",
     "output_type": "stream",
     "text": [
      "Original Array:\n",
      " [[1 2 3]\n",
      " [4 5 6]\n",
      " [7 8 9]]\n",
      "Rows Reversed:\n",
      " [[7 8 9]\n",
      " [4 5 6]\n",
      " [1 2 3]]\n"
     ]
    }
   ],
   "source": [
    "# 2. Reversing a 2D NumPy Array\n",
    "#For a two-dimensional array, you can reverse it along specific axes (rows, columns) or entirely.\n",
    "\n",
    "# (a) Reverse Along Rows (Axis 0)\n",
    "#To reverse the rows (flip vertically):\n",
    "arr = np.array([[1, 2, 3],\n",
    "                [4, 5, 6],\n",
    "                [7, 8, 9]])\n",
    "\n",
    "# Reverse rows\n",
    "reversed_rows = arr[::-1, :]\n",
    "\n",
    "print(\"Original Array:\\n\", arr)\n",
    "print(\"Rows Reversed:\\n\", reversed_rows)"
   ]
  },
  {
   "cell_type": "code",
   "execution_count": 3,
   "id": "51162718-8521-4e46-8dbe-78879f96eabc",
   "metadata": {},
   "outputs": [
    {
     "name": "stdout",
     "output_type": "stream",
     "text": [
      "Columns Reversed:\n",
      " [[3 2 1]\n",
      " [6 5 4]\n",
      " [9 8 7]]\n"
     ]
    }
   ],
   "source": [
    "# (b) Reverse Along Columns (Axis 1)\n",
    "# To reverse the columns (flip horizontally):\n",
    "# Reverse columns\n",
    "reversed_cols = arr[:, ::-1]\n",
    "\n",
    "print(\"Columns Reversed:\\n\", reversed_cols)"
   ]
  },
  {
   "cell_type": "code",
   "execution_count": 4,
   "id": "db1621fb-a928-4e2f-82e1-fa67f0739fc0",
   "metadata": {},
   "outputs": [
    {
     "name": "stdout",
     "output_type": "stream",
     "text": [
      "Array Fully Reversed:\n",
      " [[9 8 7]\n",
      " [6 5 4]\n",
      " [3 2 1]]\n"
     ]
    }
   ],
   "source": [
    "# (c) Reverse Both Axes (Entire Array)\n",
    "#To reverse the array along both axes:\n",
    "# Reverse both rows and columns\n",
    "reversed_both = arr[::-1, ::-1]\n",
    "\n",
    "print(\"Array Fully Reversed:\\n\", reversed_both)"
   ]
  },
  {
   "cell_type": "code",
   "execution_count": 5,
   "id": "719bda09-84a2-410c-b590-d2802156ada4",
   "metadata": {},
   "outputs": [
    {
     "name": "stdout",
     "output_type": "stream",
     "text": [
      "Rows Flipped:\n",
      " [[7 8 9]\n",
      " [4 5 6]\n",
      " [1 2 3]]\n"
     ]
    }
   ],
   "source": [
    "# 3. Reversing Arrays Using NumPy Functions\n",
    "#You can also reverse arrays with numpy.flip, which provides a more explicit and versatile way to specify axes.\n",
    "\n",
    "#Flip Along Rows (Axis 0):\n",
    "flipped_rows = np.flip(arr, axis=0)\n",
    "print(\"Rows Flipped:\\n\", flipped_rows)"
   ]
  },
  {
   "cell_type": "code",
   "execution_count": 6,
   "id": "5d0d5668-977b-4280-bb2f-6c3de00f78d0",
   "metadata": {},
   "outputs": [
    {
     "name": "stdout",
     "output_type": "stream",
     "text": [
      "Columns Flipped:\n",
      " [[3 2 1]\n",
      " [6 5 4]\n",
      " [9 8 7]]\n"
     ]
    }
   ],
   "source": [
    "#Flip Along Columns (Axis 1):\n",
    "flipped_cols = np.flip(arr, axis=1)\n",
    "print(\"Columns Flipped:\\n\", flipped_cols)"
   ]
  },
  {
   "cell_type": "code",
   "execution_count": 8,
   "id": "eb00ab37-1c06-4b97-8955-a27d553ccd94",
   "metadata": {},
   "outputs": [
    {
     "name": "stdout",
     "output_type": "stream",
     "text": [
      "Fully Flipped:\n",
      " [[9 8 7]\n",
      " [6 5 4]\n",
      " [3 2 1]]\n"
     ]
    }
   ],
   "source": [
    "#Flip Both Axes:\n",
    "flipped_both = np.flip(arr)\n",
    "print(\"Fully Flipped:\\n\", flipped_both)\n",
    "# Note: np.flip can reverse along specific axes without needing slicing syntax."
   ]
  },
  {
   "cell_type": "code",
   "execution_count": 9,
   "id": "254cae80-8b6a-43ca-99a1-41eec59a9d19",
   "metadata": {},
   "outputs": [
    {
     "name": "stdout",
     "output_type": "stream",
     "text": [
      "Data type of array elements: int64\n"
     ]
    }
   ],
   "source": [
    "#Question_No.4: How can you determine the data type of elements in a NumPy array? Discuss the importance\n",
    "#of data types in memory management and performance.\n",
    "\n",
    "\n",
    "#Answer: Determining the Data Type of Elements in a NumPy Array\n",
    "#To determine the data type of the elements in a NumPy array, you can use the .dtype attribute of the\n",
    "#array:\n",
    "import numpy as np\n",
    "\n",
    "# Example array\n",
    "arr = np.array([1, 2, 3])\n",
    "\n",
    "# Determine the data type\n",
    "data_type = arr.dtype\n",
    "\n",
    "print(\"Data type of array elements:\", data_type)\n",
    "# The .dtype attribute tells you the data type of the elements in the array, such as int32, float64, or \n",
    "#complex128."
   ]
  },
  {
   "cell_type": "code",
   "execution_count": 10,
   "id": "98bab5a2-37a9-45d0-958e-839bcb17b9ae",
   "metadata": {},
   "outputs": [
    {
     "name": "stdout",
     "output_type": "stream",
     "text": [
      "Memory usage of int32 array: 4000000 bytes\n",
      "Memory usage of int64 array: 8000000 bytes\n"
     ]
    }
   ],
   "source": [
    "# Importance of Data Types in NumPy\n",
    "#1. Memory Management\n",
    "#NumPy is highly efficient because it allows you to specify the data type of elements, which directly \n",
    "#impacts memory usage:\n",
    "\n",
    "# Different data types require different amounts of memory per element. For example:\n",
    "#int32 uses 4 bytes (32 bits) per element.\n",
    "#int64 uses 8 bytes (64 bits) per element.\n",
    "#float64 uses 8 bytes (64 bits) per element.\n",
    "#float32 uses 4 bytes (32 bits) per element.\n",
    "\n",
    "#By choosing the smallest data type sufficient for your data, you can significantly reduce memory \n",
    "#consumption, which is especially important for large datasets.\n",
    "#Example:\n",
    "large_array_int32 = np.ones(1_000_000, dtype=np.int32)\n",
    "large_array_int64 = np.ones(1_000_000, dtype=np.int64)\n",
    "\n",
    "print(\"Memory usage of int32 array:\", large_array_int32.nbytes, \"bytes\")\n",
    "print(\"Memory usage of int64 array:\", large_array_int64.nbytes, \"bytes\")"
   ]
  },
  {
   "cell_type": "code",
   "execution_count": 12,
   "id": "c9cfc1c8-c1e5-4cf0-beae-fb03eb177213",
   "metadata": {},
   "outputs": [
    {
     "name": "stdout",
     "output_type": "stream",
     "text": [
      "1.68 ms ± 59.6 μs per loop (mean ± std. dev. of 7 runs, 100 loops each)\n",
      "3.47 ms ± 299 μs per loop (mean ± std. dev. of 7 runs, 100 loops each)\n"
     ]
    }
   ],
   "source": [
    "# 2. Performance\n",
    "#Data types affect computation speed:\n",
    "\n",
    "# Smaller data types (e.g., int8, float32) allow for faster computation because they use less memory and \n",
    "#fit better in CPU cache.\n",
    "\n",
    "# However, using a data type that is too small may result in data overflow or loss of precision.\n",
    "\n",
    "#Example\n",
    "arr_float32 = np.ones(1_000_000, dtype=np.float32)\n",
    "arr_float64 = np.ones(1_000_000, dtype=np.float64)\n",
    "\n",
    "# Element-wise addition\n",
    "%timeit arr_float32 + arr_float32\n",
    "%timeit arr_float64 + arr_float64\n",
    "\n",
    "# You'll often observe that operations on float32 arrays are faster than on float64 arrays due to reduced memory bandwidth requirements."
   ]
  },
  {
   "cell_type": "code",
   "execution_count": 13,
   "id": "0535adee-843a-4251-be8e-6fc9704c3681",
   "metadata": {},
   "outputs": [],
   "source": [
    "#Question_No.5:Define ndarrays in NumPy and explain their key features. How do they differ from standard\n",
    "#Python lists?\n",
    "\n",
    "\n",
    "#Answer: Definition of ndarray in NumPy\n",
    "# An ndarray (short for \"N-dimensional array\") is the core data structure in NumPy. It represents a \n",
    "#multidimensional, homogeneous array of fixed-size elements. Each element in an ndarray is of the same\n",
    "#data type, which is defined by a dtype object.\n",
    "\n",
    "# Key Features of NumPy ndarray\n",
    "\n",
    "# Homogeneous Data Type:\n",
    "#All elements in an ndarray must be of the same type (e.g., int32, float64, etc.), allowing for efficient\n",
    "#memory use and computations.\n",
    "\n",
    "# Multidimensional:\n",
    "#Supports arrays with any number of dimensions, from 1D (vectors) to nD (e.g., matrices, tensors).\n",
    "\n",
    "# Fixed Size:\n",
    "#Once created, the size of an ndarray is fixed. You cannot directly append or remove elements; instead, \n",
    "#new arrays must be created.\n",
    "\n",
    "#Efficient Memory Management:\n",
    "#Arrays are stored as contiguous blocks of memory, which enables fast access and manipulation.\n",
    "\n",
    "#Vectorized Operations:\n",
    "#Arithmetic and mathematical operations are applied element-wise, without requiring explicit loops, \n",
    "#making computations faster.\n",
    "\n",
    "#Broadcasting:\n",
    "#Allows operations between arrays of different shapes, automatically adjusting dimensions where possible\n",
    "#to perform operations.\n",
    "\n",
    "\n",
    "# Comparison: NumPy ndarray vs. Python List \n",
    "# Feature\t              NumPy ndarray\t                                                                                          Python List\n",
    "# Data Type\t            Homogeneous (all elements have the same type).\t                                                 Heterogeneous (elements can have different types).\n",
    "# Performance\t        Faster due to contiguous memory storage and vectorized operations.\t                             Slower; each element is a Python object, leading to overhead.\n",
    "# Memory Efficiency\t    More memory-efficient due to fixed data types and contiguous memory allocation.\t                 Less efficient; uses pointers and additional metadata.\n",
    "# Dimensionality\t    Supports multi-dimensional arrays (e.g., 1D, 2D, 3D).                                            Essentially 1D; multi-dimensional structures like lists of lists are less efficient.\n",
    "# Arithmetic Operations\t Element-wise operations directly supported.\t                                                 Requires explicit loops or list comprehensions.\n",
    "# Indexing\t             Advanced slicing and indexing, including boolean and multidimensional indexing.\t             Basic indexing; more complex operations require manual implementation.\n",
    "# Built-in Functions\t Extensive library of functions for mathematical, statistical, and linear algebra operations.\t Limited built-in operations; requires importing libraries like math.\n",
    "# Fixed Size\t         Size is fixed once created.\t                                                                 Dynamic; elements can be appended or removed.\n",
    "# Broadcasting\t        Supports broadcasting for operations between arrays of different shapes.\t                     Does not support broadcasting.\n",
    " "
   ]
  },
  {
   "cell_type": "code",
   "execution_count": null,
   "id": "d31923fd-7278-4ff0-ba91-6c0d88c3206c",
   "metadata": {},
   "outputs": [],
   "source": [
    "#Question_No.6:Analyze the performance benefits of NumPy arrays over Python lists for large-scale \n",
    "#numerical operations.\n",
    "\n",
    "\n",
    "#Answer:Key Performance Benefits\n",
    "# 1. Memory Efficiency\n",
    "# NumPy Arrays:\n",
    "#Store elements in a contiguous block of memory.\n",
    "#Each element has a fixed size and type, defined by the dtype.\n",
    "#Minimal memory overhead due to the absence of per-element pointers or type metadata.\n",
    "# Python Lists:\n",
    "#Store references to individual objects in memory.\n",
    "#Each element is a full Python object, which adds significant overhead, especially for large datasets.\n",
    "\n",
    "\n",
    "#2. Speed (Computation Efficiency)\n",
    "# NumPy Arrays:\n",
    "#Operations are implemented in C and optimized for performance.\n",
    "#Avoid Python’s interpreter overhead by leveraging vectorized operations.\n",
    "#Use SIMD (Single Instruction Multiple Data) instructions and multi-threading.\n",
    "\n",
    "# Python Lists:\n",
    "#Arithmetic operations require looping through elements explicitly in Python, incurring overhead for every operation.\n",
    "#Lack of built-in support for vectorized operations.\n",
    "\n",
    "# 3. Vectorized Operations\n",
    "# NumPy Arrays:\n",
    "#Perform operations element-wise without requiring explicit loops.\n",
    "#Use efficient low-level implementations under the hood.\n",
    "\n",
    "# Python Lists:\n",
    "#Require manual iteration using loops or list comprehensions, which is slower and less readable.\n",
    "\n",
    "#4. Broadcasting\n",
    "# NumPy Arrays:\n",
    "#Automatically handle operations between arrays of different shapes using broadcasting.\n",
    "#Greatly simplifies computations on multidimensional data.\n",
    "\n",
    "#Python Lists:\n",
    "#No native support for broadcasting. Operations on nested lists require explicit loops.\n",
    "\n",
    "# 5. Built-in Functions\n",
    "# NumPy Arrays:\n",
    "#Provide optimized implementations for a wide range of mathematical, statistical, and linear algebra operations.\n",
    "#Avoid the need for external libraries or custom implementations.\n",
    "\n",
    "#Python Lists:\n",
    "#Basic operations (e.g., sum, max) are supported but rely on Python’s interpreter, which is slower.\n",
    "#Advanced operations require importing additional libraries like math or statistics.\n"
   ]
  },
  {
   "cell_type": "code",
   "execution_count": 14,
   "id": "143709e3-be80-4684-906e-e9189b51f507",
   "metadata": {},
   "outputs": [
    {
     "name": "stdout",
     "output_type": "stream",
     "text": [
      "Array 1:\n",
      " [[1 2]\n",
      " [3 4]]\n",
      "Array 2 for vstack:\n",
      " [[5 6]]\n",
      "Array 2 for hstack:\n",
      " [[5]\n",
      " [6]]\n",
      "\n",
      "Result of vstack:\n",
      " [[1 2]\n",
      " [3 4]\n",
      " [5 6]]\n",
      "\n",
      "Result of hstack:\n",
      " [[1 2 5]\n",
      " [3 4 6]]\n"
     ]
    }
   ],
   "source": [
    "#Question_No.7:Compare vstack() and hstack() functions in NumPy. Provide examples demonstrating their \n",
    "#usage and output.\n",
    "\n",
    "\n",
    "#Answer: Key Differences\n",
    "#Aspect\t                      vstack()\t                                 hstack()\n",
    "#Axis of stacking\tStacks along rows (axis 0).\t                         Stacks along columns (axis 1).\n",
    "#Row alignment\t    Requires arrays to have the same number of columns.\t Requires arrays to have the same number of rows.\n",
    "#Shape change\t    Increases the number of rows.\t                     Increases the number of columns.\n",
    "\n",
    "\n",
    "# Combined Example\n",
    "#Let’s demonstrate both functions on the same dataset to highlight their differences.\n",
    "arr1 = np.array([[1, 2], [3, 4]])\n",
    "arr2 = np.array([[5, 6]])\n",
    "\n",
    "# Vertically stack arrays\n",
    "vstack_result = np.vstack((arr1, arr2))\n",
    "\n",
    "# Horizontally stack arrays\n",
    "# To match rows, we reshape arr2\n",
    "arr2_h = np.array([[5], [6]])\n",
    "hstack_result = np.hstack((arr1, arr2_h))\n",
    "\n",
    "print(\"Array 1:\\n\", arr1)\n",
    "print(\"Array 2 for vstack:\\n\", arr2)\n",
    "print(\"Array 2 for hstack:\\n\", arr2_h)\n",
    "print(\"\\nResult of vstack:\\n\", vstack_result)\n",
    "print(\"\\nResult of hstack:\\n\", hstack_result)\n",
    "# Use vstack() when you want to stack arrays vertically (add more rows).\n",
    "# Use hstack() when you want to stack arrays horizontally (add more columns).\n",
    "# Both are highly useful for combining arrays in data processing, feature engineering, or matrix\n",
    "#construction tasks."
   ]
  },
  {
   "cell_type": "code",
   "execution_count": null,
   "id": "d13d75d9-b5cf-49ce-ac0c-8421f36e92e7",
   "metadata": {},
   "outputs": [],
   "source": [
    "#Question_No.8:Explain the differences between fliplr() and flipud() methods in NumPy, including their \n",
    "#effects on various array dimensions.\n",
    "\n",
    "\n",
    "#Answer: Key Differences Between fliplr() and flipud()\n",
    "\n",
    "#Aspect\t                           fliplr()\t                                          flipud()\n",
    "#Full Name\t             Flip Left to Right\t                                   Flip Up to Down\n",
    "#Effect\t                 Reverses the order of columns (horizontal axis).\t  Reverses the order of rows (vertical axis).\n",
    "#Axis of Operation\t     Operates along the last axis (axis 1).\t              Operates along the first axis (axis 0).\n",
    "#Applicable Dimensions\t Requires at least 2D arrays.\t                      Works for arrays with at least 1D.\n",
    "\n",
    "# Behavior and Effects\n",
    "# 1. fliplr()\n",
    "#Reverses the order of columns in a 2D array (left becomes right, and vice versa).\n",
    "#Operates on the last axis (axis 1) of the array.\n",
    "#Requires the array to have at least 2 dimensions; throws an error for 1D arrays.\n",
    "\n",
    "# 2. flipud()\n",
    "#Reverses the order of rows in a 2D array (top becomes bottom, and vice versa).\n",
    "#Operates on the first axis (axis 0) of the array.\n",
    "#Works for arrays with at least 1 dimension, including 1D arrays.\n",
    "\n",
    "\n",
    "#  Effects on Arrays with Different Dimensions\n",
    "\n",
    "# For 2D Arrays:\n",
    "#Both functions work as described:\n",
    "#fliplr() reverses columns.\n",
    "#flipud() reverses rows.\n",
    "\n",
    "# For 1D Arrays:\n",
    "#fliplr() raises an error because it requires at least 2D arrays.\n",
    "#flipud() reverses the order of elements in the array.\n",
    "\n",
    "# For Higher-Dimensional Arrays\n",
    "#Both functions only affect the specified axis:\n",
    "\n",
    "#fliplr(): Reverses the last axis (axis 1).\n",
    "#flipud(): Reverses the first axis (axis 0).\n"
   ]
  },
  {
   "cell_type": "code",
   "execution_count": null,
   "id": "831dbf8d-f080-410f-93c0-b4ba736d997f",
   "metadata": {},
   "outputs": [],
   "source": [
    "#Question_No.9: Discuss the functionality of the array_split() method in NumPy. How does it handle \n",
    "#uneven splits?\n",
    "\n",
    "\n",
    "#Answer: The array_split() method in NumPy is used to split an array into multiple sub-arrays. Unlike \n",
    "#split(), which requires that the splits result in equal-sized sub-arrays, array_split() can handle \n",
    "#cases where the array cannot be evenly divided. This makes it more versatile for uneven splits.\n",
    "\n",
    "# Key Features of array_split()\n",
    "\n",
    "#Splits an array into a specified number of parts (sections).\n",
    "#Handles uneven splits gracefully: When the array length is not evenly divisible by the number of\n",
    "#sections, it creates smaller sub-arrays for the remaining elements.\n",
    "#Works for both 1D and multi-dimensional arrays.\n",
    "\n",
    "\n",
    "# Handling Uneven Splits\n",
    "#When the array length is not evenly divisible by the number of splits (sections):\n",
    "\n",
    "#The first few sub-arrays are larger and contain one extra element.\n",
    "#Remaining sub-arrays are smaller, containing the remaining elements.\n",
    "\n",
    "# Summary\n",
    "# Feature\t                     array_split()\t                       split()\n",
    "# Uneven splits\t        Handles uneven splits gracefully.\t   Raises an error for uneven splits.\n",
    "# Input for sections\t    Integer or explicit indices.\t        Integer only.\n",
    "# Use case\t            More flexible splitting.\t           Equal division only.\n",
    "\n",
    "#The array_split() method is a versatile tool for dividing arrays, especially when dealing with\n",
    "#datasets of varying sizes where perfect splits may not always be possible."
   ]
  },
  {
   "cell_type": "code",
   "execution_count": null,
   "id": "b0efbef4-d81d-4162-92b9-2e030bbb4d7a",
   "metadata": {},
   "outputs": [],
   "source": [
    "#Question_No.10:Explain the concepts of vectorization and broadcasting in NumPy. How do they contribute \n",
    "#to efficient array operations?\n",
    "\n",
    "\n",
    "#Answer: 1.Vectorization\n",
    "# Definition\n",
    "#Vectorization refers to the process of applying operations directly on entire arrays (or vectors) \n",
    "#instead of iterating over individual elements using loops. NumPy's internal C-based implementation \n",
    "#executes these operations efficiently.\n",
    "\n",
    "# Advantages of Vectorization\n",
    "#Speed: Operations are executed in compiled C code, avoiding Python's slower loop execution.\n",
    "#Simplicity: Code is more concise, easier to read, and less error-prone.\n",
    "#Memory Efficiency: Optimized memory management reduces overhead compared to manual looping.\n",
    "\n",
    "\n",
    "# 2. Broadcasting\n",
    "# Definition\n",
    "#Broadcasting allows NumPy to perform arithmetic operations on arrays of different shapes by \n",
    "#automatically expanding their dimensions to make them compatible. This eliminates the need for \n",
    "#manually reshaping arrays.\n",
    "\n",
    "# Rules of Broadcasting\n",
    "#If the dimensions of the two arrays differ, prepend 1 to the smaller array's shape until they match.\n",
    "#Arrays are compatible for broadcasting if their dimensions are either:\n",
    "#The same, or\n",
    "#One of them is 1.\n",
    "#The result has the shape of the larger array.\n",
    "\n",
    "\n",
    "# How Vectorization and Broadcasting Enhance Efficiency\n",
    "# 1. Computational Speed\n",
    "#NumPy's vectorized operations and broadcasting utilize highly optimized, pre-compiled C libraries\n",
    "#(e.g., BLAS, LAPACK).\n",
    "#By avoiding explicit Python loops, they reduce the overhead of interpreted Python code.\n",
    "\n",
    "# 2. Memory Efficiency\n",
    "#Broadcasting avoids creating large intermediate arrays by reusing smaller arrays across multiple \n",
    "#operations, minimizing memory usage.\n",
    "# 3. Developer Productivity\n",
    "#With concise syntax, vectorization and broadcasting reduce the code length and complexity, making it\n",
    "#easier to debug and maintain.\n",
    "\n",
    "# Vectorization and broadcasting are powerful tools in NumPy that:\n",
    "\n",
    "#Enable concise, Pythonic code.\n",
    "#Drastically improve the performance of numerical operations.\n",
    "#Optimize memory usage during large-scale computations.\n",
    "\n",
    "#These concepts are fundamental for high-performance data processing, machine learning, and scientific \n",
    "#computing tasks."
   ]
  }
 ],
 "metadata": {
  "kernelspec": {
   "display_name": "Python 3 (ipykernel)",
   "language": "python",
   "name": "python3"
  },
  "language_info": {
   "codemirror_mode": {
    "name": "ipython",
    "version": 3
   },
   "file_extension": ".py",
   "mimetype": "text/x-python",
   "name": "python",
   "nbconvert_exporter": "python",
   "pygments_lexer": "ipython3",
   "version": "3.12.5"
  }
 },
 "nbformat": 4,
 "nbformat_minor": 5
}
